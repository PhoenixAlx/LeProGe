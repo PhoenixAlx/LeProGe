{
 "cells": [
  {
   "cell_type": "code",
   "execution_count": 56,
   "metadata": {
    "collapsed": false
   },
   "outputs": [
    {
     "name": "stdout",
     "output_type": "stream",
     "text": [
      "['MARCA TEMPORAL', '¿CUÁL ES TU GÉNERO?', '¿QUÉ LENGUAJE DE PROGRAMACIÓN USAS MÁS? DÍ SOLO UNO', '¿DÓNDE VIVES ACTUALMENTE?']\n",
      "{'R': 5, 'SCALA': 0, 'PHP': 5, 'C++ O R (SI R SE CONSIDERA UN LENGUAJE...)': 0, 'PYTHON': 8, 'KOALACHUCKSCRIPT': 0, 'HTML': 0, 'RUBY': 1, 'JAVA': 6, 'EL DE LA TERMOMIX': 0, 'NODE.JS': 0, 'JAVASCRIPT': 4, 'TYPESCRIPT': 0, 'LUA': 0, 'BASH': 0, 'CHICHARRONES CON TOMATE': 0, 'C#': 0, 'PHP, PYTHON': 0, 'C++': 20, 'CSS': 0, 'JAVASCRIPT ': 0, 'C': 0}\n"
     ]
    }
   ],
   "source": [
    "# -*- coding: utf-8 -*- \n",
    "import requests\n",
    "import io\n",
    "import  csv\n",
    "headers={}\n",
    "headers[\"User-Agent\"]= \"Mozilla/5.0 (Windows NT 6.2; WOW64; rv:22.0) Gecko/20100101 Firefox/22.0\"\n",
    "headers[\"DNT\"]= \"1\"\n",
    "headers[\"Accept\"] = \"text/html,application/xhtml+xml,application/xml;q=0.9,*/*;q=0.8\"\n",
    "headers[\"Accept-Encoding\"] = \"deflate\"\n",
    "headers[\"Accept-Language\"]= \"es-ES,en;q=0.5\"\n",
    "headers[\"Content-Type\"]= \"application/x-www-form-urlencoded; charset=UTF-8\"\n",
    "lines = []\n",
    "\n",
    "file_id=\"1xFpri9AF6N23vo6J5UUA_d5rY_oeVwpQ-EUBani0O7M\"\n",
    "url = \"https://docs.google.com/spreadsheets/d/{0}/export?format=csv\".format(file_id)\n",
    "\n",
    "r = requests.get(url)\n",
    "r.encoding ='utf-8'\n",
    "\n",
    "data = {}\n",
    "cols = []\n",
    "lenguaje = {}\n",
    "sio = io.StringIO( r.text, newline=None)\n",
    "reader = csv.reader(sio, dialect=csv.excel)\n",
    "rownum = 0\n",
    "\n",
    "for row in reader:\n",
    "    if rownum == 0:\n",
    "        for col in row:\n",
    "            col=col.upper();\n",
    "            data[col] = ''\n",
    "            cols.append(col)\n",
    "        print (cols)\n",
    "\n",
    "    else:\n",
    "        i = 0\n",
    "        for col in row:\n",
    "            col=col.upper()\n",
    "            data[cols[i]] = col\n",
    "            if (i==1):\n",
    "                if (col in lenguaje):\n",
    "                    lenguaje[col]+=1\n",
    "                else:\n",
    "                    lenguaje[col]={};\n",
    "            elif (i==2):\n",
    "                if (col in lenguaje):\n",
    "                    lenguaje[col]+=1\n",
    "                else:\n",
    "                    lenguaje[col]=0;\n",
    "            i = i +1\n",
    "    rownum = rownum + 1\n",
    "print(lenguaje)"
   ]
  },
  {
   "cell_type": "code",
   "execution_count": null,
   "metadata": {
    "collapsed": true
   },
   "outputs": [],
   "source": []
  }
 ],
 "metadata": {
  "kernelspec": {
   "display_name": "Python 3",
   "language": "python",
   "name": "python3"
  },
  "language_info": {
   "codemirror_mode": {
    "name": "ipython",
    "version": 3
   },
   "file_extension": ".py",
   "mimetype": "text/x-python",
   "name": "python",
   "nbconvert_exporter": "python",
   "pygments_lexer": "ipython3",
   "version": "3.5.2"
  }
 },
 "nbformat": 4,
 "nbformat_minor": 1
}
